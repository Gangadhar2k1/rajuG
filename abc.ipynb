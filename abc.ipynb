{
 "cells": [
  {
   "cell_type": "code",
   "execution_count": 1,
   "id": "b740ab70",
   "metadata": {},
   "outputs": [],
   "source": [
    "mylist=[\"chandan\",\"Jeevan\",\"manoj k\",\"Avinash\"];"
   ]
  },
  {
   "cell_type": "code",
   "execution_count": 2,
   "id": "96add45f",
   "metadata": {},
   "outputs": [
    {
     "name": "stdout",
     "output_type": "stream",
     "text": [
      "['chandan', 'Jeevan', 'manoj k', 'Avinash']\n"
     ]
    }
   ],
   "source": [
    "print(mylist);"
   ]
  },
  {
   "cell_type": "code",
   "execution_count": 3,
   "id": "4b5f5d1c",
   "metadata": {},
   "outputs": [],
   "source": [
    "mylist.append(\"Gangadhar\");"
   ]
  },
  {
   "cell_type": "code",
   "execution_count": 4,
   "id": "65790c17",
   "metadata": {},
   "outputs": [
    {
     "name": "stdout",
     "output_type": "stream",
     "text": [
      "['chandan', 'Jeevan', 'manoj k', 'Avinash', 'Gangadhar']\n"
     ]
    }
   ],
   "source": [
    "print(mylist);\n"
   ]
  },
  {
   "cell_type": "code",
   "execution_count": 5,
   "id": "5d70240f",
   "metadata": {},
   "outputs": [
    {
     "ename": "NameError",
     "evalue": "name 'thislist' is not defined",
     "output_type": "error",
     "traceback": [
      "\u001b[1;31m---------------------------------------------------------------------------\u001b[0m",
      "\u001b[1;31mNameError\u001b[0m                                 Traceback (most recent call last)",
      "Cell \u001b[1;32mIn[5], line 1\u001b[0m\n\u001b[1;32m----> 1\u001b[0m thislist\u001b[38;5;241m.\u001b[39mcopy()\n",
      "\u001b[1;31mNameError\u001b[0m: name 'thislist' is not defined"
     ]
    }
   ],
   "source": [
    "thislist.copy();\n"
   ]
  },
  {
   "cell_type": "code",
   "execution_count": 6,
   "id": "d6484b00",
   "metadata": {},
   "outputs": [],
   "source": [
    "thislist=mylist.copy();\n"
   ]
  },
  {
   "cell_type": "code",
   "execution_count": 7,
   "id": "5f856b1d",
   "metadata": {},
   "outputs": [
    {
     "name": "stdout",
     "output_type": "stream",
     "text": [
      "['chandan', 'Jeevan', 'manoj k', 'Avinash', 'Gangadhar']\n"
     ]
    }
   ],
   "source": [
    "print(thislist);"
   ]
  },
  {
   "cell_type": "code",
   "execution_count": 8,
   "id": "2fee936f",
   "metadata": {},
   "outputs": [
    {
     "name": "stdout",
     "output_type": "stream",
     "text": [
      "['chandan', 'Jeevan', 'manoj k', 'Avinash', 'Gangadhar']\n"
     ]
    }
   ],
   "source": [
    "print(mylist);\n"
   ]
  },
  {
   "cell_type": "code",
   "execution_count": 9,
   "id": "29b29275",
   "metadata": {},
   "outputs": [
    {
     "ename": "NameError",
     "evalue": "name 'tmylist' is not defined",
     "output_type": "error",
     "traceback": [
      "\u001b[1;31m---------------------------------------------------------------------------\u001b[0m",
      "\u001b[1;31mNameError\u001b[0m                                 Traceback (most recent call last)",
      "Cell \u001b[1;32mIn[9], line 1\u001b[0m\n\u001b[1;32m----> 1\u001b[0m tmylist\u001b[38;5;241m.\u001b[39mclear()\n",
      "\u001b[1;31mNameError\u001b[0m: name 'tmylist' is not defined"
     ]
    }
   ],
   "source": [
    "tmylist.clear()"
   ]
  },
  {
   "cell_type": "code",
   "execution_count": 10,
   "id": "b147ec1d",
   "metadata": {},
   "outputs": [],
   "source": [
    "mylist.clear();"
   ]
  },
  {
   "cell_type": "code",
   "execution_count": 11,
   "id": "44a3234d",
   "metadata": {},
   "outputs": [
    {
     "name": "stdout",
     "output_type": "stream",
     "text": [
      "[]\n"
     ]
    }
   ],
   "source": [
    "print(mylist);"
   ]
  },
  {
   "cell_type": "code",
   "execution_count": 12,
   "id": "2f601c6c",
   "metadata": {},
   "outputs": [
    {
     "name": "stdout",
     "output_type": "stream",
     "text": [
      "[]\n"
     ]
    }
   ],
   "source": [
    "print(mylist);"
   ]
  },
  {
   "cell_type": "code",
   "execution_count": 13,
   "id": "565b2438",
   "metadata": {},
   "outputs": [
    {
     "ename": "TypeError",
     "evalue": "'builtin_function_or_method' object is not subscriptable",
     "output_type": "error",
     "traceback": [
      "\u001b[1;31m---------------------------------------------------------------------------\u001b[0m",
      "\u001b[1;31mTypeError\u001b[0m                                 Traceback (most recent call last)",
      "Cell \u001b[1;32mIn[13], line 1\u001b[0m\n\u001b[1;32m----> 1\u001b[0m mylist\u001b[38;5;241m.\u001b[39minsert[\u001b[38;5;124m'\u001b[39m\u001b[38;5;124mchandan\u001b[39m\u001b[38;5;124m'\u001b[39m, \u001b[38;5;124m'\u001b[39m\u001b[38;5;124mJeevan\u001b[39m\u001b[38;5;124m'\u001b[39m, \u001b[38;5;124m'\u001b[39m\u001b[38;5;124mmanoj k\u001b[39m\u001b[38;5;124m'\u001b[39m, \u001b[38;5;124m'\u001b[39m\u001b[38;5;124mAvinash\u001b[39m\u001b[38;5;124m'\u001b[39m, \u001b[38;5;124m'\u001b[39m\u001b[38;5;124mGangadhar\u001b[39m\u001b[38;5;124m'\u001b[39m]\n",
      "\u001b[1;31mTypeError\u001b[0m: 'builtin_function_or_method' object is not subscriptable"
     ]
    }
   ],
   "source": [
    "mylist.insert['chandan', 'Jeevan', 'manoj k', 'Avinash', 'Gangadhar'];"
   ]
  },
  {
   "cell_type": "code",
   "execution_count": null,
   "id": "9d246ac7",
   "metadata": {},
   "outputs": [],
   "source": []
  },
  {
   "cell_type": "code",
   "execution_count": 14,
   "id": "0855947b",
   "metadata": {},
   "outputs": [],
   "source": [
    "mylist=['chandan', 'Jeevan', 'manoj k', 'Avinash', 'Gangadhar'];"
   ]
  },
  {
   "cell_type": "code",
   "execution_count": 15,
   "id": "853e5ad6",
   "metadata": {},
   "outputs": [],
   "source": [
    "mylist.insert(1,\"manoj gm\");"
   ]
  },
  {
   "cell_type": "code",
   "execution_count": 16,
   "id": "45f408a3",
   "metadata": {},
   "outputs": [
    {
     "name": "stdout",
     "output_type": "stream",
     "text": [
      "['chandan', 'manoj gm', 'Jeevan', 'manoj k', 'Avinash', 'Gangadhar']\n"
     ]
    }
   ],
   "source": [
    "print(mylist);"
   ]
  },
  {
   "cell_type": "code",
   "execution_count": 17,
   "id": "09aa4e15",
   "metadata": {},
   "outputs": [],
   "source": [
    "list1=[\"a\",\"b\",\"c\"]\n",
    "list2=[1,2,3]"
   ]
  },
  {
   "cell_type": "code",
   "execution_count": 18,
   "id": "a3334e6c",
   "metadata": {},
   "outputs": [],
   "source": [
    "list3=list1+list2"
   ]
  },
  {
   "cell_type": "code",
   "execution_count": 19,
   "id": "4e9306b5",
   "metadata": {},
   "outputs": [
    {
     "name": "stdout",
     "output_type": "stream",
     "text": [
      "['a', 'b', 'c', 1, 2, 3]\n"
     ]
    }
   ],
   "source": [
    "print(list3)"
   ]
  },
  {
   "cell_type": "code",
   "execution_count": 20,
   "id": "e2bc5925",
   "metadata": {},
   "outputs": [
    {
     "name": "stdout",
     "output_type": "stream",
     "text": [
      "['chandan', 'manoj gm', 'Jeevan', 'manoj k', 'Avinash', 'Gangadhar']\n"
     ]
    }
   ],
   "source": [
    "print(mylist);"
   ]
  },
  {
   "cell_type": "code",
   "execution_count": 21,
   "id": "295d3f64",
   "metadata": {},
   "outputs": [],
   "source": [
    "mylist=[\"chandan\",\"manoj\",\"Jeevan\"];"
   ]
  },
  {
   "cell_type": "code",
   "execution_count": 27,
   "id": "4061edf6",
   "metadata": {},
   "outputs": [],
   "source": [
    "mylist[1]=\"Avinash\""
   ]
  },
  {
   "cell_type": "code",
   "execution_count": 28,
   "id": "79b07010",
   "metadata": {},
   "outputs": [
    {
     "ename": "TypeError",
     "evalue": "'builtin_function_or_method' object is not subscriptable",
     "output_type": "error",
     "traceback": [
      "\u001b[1;31m---------------------------------------------------------------------------\u001b[0m",
      "\u001b[1;31mTypeError\u001b[0m                                 Traceback (most recent call last)",
      "Cell \u001b[1;32mIn[28], line 1\u001b[0m\n\u001b[1;32m----> 1\u001b[0m \u001b[38;5;28mprint\u001b[39m[mylist]\n",
      "\u001b[1;31mTypeError\u001b[0m: 'builtin_function_or_method' object is not subscriptable"
     ]
    }
   ],
   "source": [
    "print[mylist]"
   ]
  },
  {
   "cell_type": "code",
   "execution_count": 29,
   "id": "fc632c32",
   "metadata": {},
   "outputs": [],
   "source": [
    "list1=[\"a\",\"b\",\"c\"]\n",
    "list2=[1,2,3]"
   ]
  },
  {
   "cell_type": "code",
   "execution_count": 30,
   "id": "6196ffbf",
   "metadata": {},
   "outputs": [],
   "source": [
    "list1.extend(list2)"
   ]
  },
  {
   "cell_type": "code",
   "execution_count": 31,
   "id": "d129f423",
   "metadata": {},
   "outputs": [
    {
     "name": "stdout",
     "output_type": "stream",
     "text": [
      "['a', 'b', 'c', 1, 2, 3]\n"
     ]
    }
   ],
   "source": [
    "print(list1)"
   ]
  },
  {
   "cell_type": "code",
   "execution_count": 32,
   "id": "fc69e1e8",
   "metadata": {},
   "outputs": [],
   "source": [
    "list1=[\"a\",\"b\",\"c\"]"
   ]
  },
  {
   "cell_type": "code",
   "execution_count": 35,
   "id": "e2ef810c",
   "metadata": {},
   "outputs": [],
   "source": [
    "list1.reverse();"
   ]
  },
  {
   "cell_type": "code",
   "execution_count": 36,
   "id": "b32e8035",
   "metadata": {},
   "outputs": [
    {
     "name": "stdout",
     "output_type": "stream",
     "text": [
      "['c', 'b', 'a']\n"
     ]
    }
   ],
   "source": [
    "print(list1)"
   ]
  },
  {
   "cell_type": "code",
   "execution_count": 37,
   "id": "016d40e6",
   "metadata": {},
   "outputs": [
    {
     "name": "stdout",
     "output_type": "stream",
     "text": [
      "['a', 'b', 'c']\n"
     ]
    }
   ],
   "source": [
    "list1.sort()\n",
    "print(list1)"
   ]
  },
  {
   "cell_type": "code",
   "execution_count": 38,
   "id": "379f99e5",
   "metadata": {},
   "outputs": [
    {
     "name": "stdout",
     "output_type": "stream",
     "text": [
      "['a', 'c']\n"
     ]
    }
   ],
   "source": [
    "list1.remove(\"b\")\n",
    "print(list1)"
   ]
  },
  {
   "cell_type": "code",
   "execution_count": null,
   "id": "af6409e5",
   "metadata": {},
   "outputs": [],
   "source": []
  }
 ],
 "metadata": {
  "kernelspec": {
   "display_name": "Python 3 (ipykernel)",
   "language": "python",
   "name": "python3"
  },
  "language_info": {
   "codemirror_mode": {
    "name": "ipython",
    "version": 3
   },
   "file_extension": ".py",
   "mimetype": "text/x-python",
   "name": "python",
   "nbconvert_exporter": "python",
   "pygments_lexer": "ipython3",
   "version": "3.11.3"
  }
 },
 "nbformat": 4,
 "nbformat_minor": 5
}
