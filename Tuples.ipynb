{
 "cells": [
  {
   "cell_type": "code",
   "execution_count": 1,
   "id": "b04e06e6",
   "metadata": {},
   "outputs": [
    {
     "name": "stdout",
     "output_type": "stream",
     "text": [
      "('1', '2', '3', '4', '5')\n"
     ]
    }
   ],
   "source": [
    "mytuples=(\"1\",\"2\",\"3\",\"4\",\"5\")\n",
    "print(mytuples)"
   ]
  },
  {
   "cell_type": "code",
   "execution_count": 2,
   "id": "544bc651",
   "metadata": {},
   "outputs": [
    {
     "name": "stdout",
     "output_type": "stream",
     "text": [
      "2\n"
     ]
    }
   ],
   "source": [
    "print(mytuples[1])"
   ]
  },
  {
   "cell_type": "code",
   "execution_count": 3,
   "id": "1c330146",
   "metadata": {},
   "outputs": [
    {
     "name": "stdout",
     "output_type": "stream",
     "text": [
      "5\n"
     ]
    }
   ],
   "source": [
    "print(mytuples[-1])"
   ]
  },
  {
   "cell_type": "code",
   "execution_count": 4,
   "id": "1fb8d822",
   "metadata": {},
   "outputs": [
    {
     "name": "stdout",
     "output_type": "stream",
     "text": [
      "('2', '3', '4', '5')\n"
     ]
    }
   ],
   "source": [
    "print(mytuples[1:5])"
   ]
  },
  {
   "cell_type": "code",
   "execution_count": 5,
   "id": "5830e019",
   "metadata": {},
   "outputs": [
    {
     "name": "stdout",
     "output_type": "stream",
     "text": [
      "()\n"
     ]
    }
   ],
   "source": [
    "print(mytuples[-1:-5])"
   ]
  },
  {
   "cell_type": "code",
   "execution_count": 6,
   "id": "95cdc250",
   "metadata": {},
   "outputs": [
    {
     "name": "stdout",
     "output_type": "stream",
     "text": [
      "('1', '2', '3', '4')\n"
     ]
    }
   ],
   "source": [
    "print(mytuples[-5:-1])"
   ]
  },
  {
   "cell_type": "code",
   "execution_count": 7,
   "id": "cd7f241d",
   "metadata": {},
   "outputs": [],
   "source": [
    "thistuples=list(mytuples)\n",
    "thistuples[1]=\"7\"\n",
    "mytuples=tuple(thistuples)"
   ]
  },
  {
   "cell_type": "code",
   "execution_count": 8,
   "id": "e45134c2",
   "metadata": {},
   "outputs": [
    {
     "name": "stdout",
     "output_type": "stream",
     "text": [
      "('1', '7', '3', '4', '5')\n"
     ]
    }
   ],
   "source": [
    "print(mytuples)"
   ]
  },
  {
   "cell_type": "code",
   "execution_count": 10,
   "id": "46b1f356",
   "metadata": {},
   "outputs": [
    {
     "name": "stdout",
     "output_type": "stream",
     "text": [
      "1\n",
      "7\n",
      "3\n",
      "4\n",
      "5\n"
     ]
    }
   ],
   "source": [
    "for mytuples in thistuples:\n",
    "    print(mytuples)"
   ]
  },
  {
   "cell_type": "code",
   "execution_count": 11,
   "id": "58eb0571",
   "metadata": {},
   "outputs": [
    {
     "name": "stdout",
     "output_type": "stream",
     "text": [
      "Yes, '7' is in fruits tuple\n"
     ]
    }
   ],
   "source": [
    "if \"7\" in thistuples:\n",
    "    print(\"Yes, '7' is in fruits tuple\")"
   ]
  },
  {
   "cell_type": "code",
   "execution_count": 12,
   "id": "8f4338cb",
   "metadata": {},
   "outputs": [
    {
     "name": "stdout",
     "output_type": "stream",
     "text": [
      "5\n"
     ]
    }
   ],
   "source": [
    "print(len(thistuples))"
   ]
  },
  {
   "cell_type": "code",
   "execution_count": 13,
   "id": "56ac476e",
   "metadata": {},
   "outputs": [
    {
     "name": "stdout",
     "output_type": "stream",
     "text": [
      "['1', '7', '3', '2', '5']\n"
     ]
    }
   ],
   "source": [
    "thistuples[3]=\"2\" #this will raise an error\n",
    "print(thistuples)"
   ]
  },
  {
   "cell_type": "code",
   "execution_count": 14,
   "id": "291960fa",
   "metadata": {},
   "outputs": [
    {
     "name": "stdout",
     "output_type": "stream",
     "text": [
      "<class 'tuple'>\n"
     ]
    }
   ],
   "source": [
    "thistuples=(\"4\",)\n",
    "print(type(thistuples))"
   ]
  },
  {
   "cell_type": "code",
   "execution_count": 16,
   "id": "05623922",
   "metadata": {},
   "outputs": [
    {
     "name": "stdout",
     "output_type": "stream",
     "text": [
      "<class 'str'>\n"
     ]
    }
   ],
   "source": [
    "#NOT a tuple\n",
    "thistuples = (\"4\")\n",
    "print(type(thistuples))\n"
   ]
  },
  {
   "cell_type": "code",
   "execution_count": 19,
   "id": "e12312a3",
   "metadata": {},
   "outputs": [
    {
     "name": "stdout",
     "output_type": "stream",
     "text": [
      "('a', 'b', 'c', 1, 2, 3)\n"
     ]
    }
   ],
   "source": [
    "tuple1= (\"a\",\"b\",\"c\")\n",
    "tuple2=(1,2,3)\n",
    "tuple3=tuple1+tuple2\n",
    "print(tuple3)"
   ]
  },
  {
   "cell_type": "code",
   "execution_count": 20,
   "id": "f46d7c45",
   "metadata": {},
   "outputs": [
    {
     "name": "stdout",
     "output_type": "stream",
     "text": [
      "('a', 'b', 'c')\n"
     ]
    }
   ],
   "source": [
    "thistuple = tuple((\"a\",\"b\",\"c\")) #note the double round-brackets\n",
    "print(thistuple)"
   ]
  },
  {
   "cell_type": "code",
   "execution_count": 24,
   "id": "de2fcb8c",
   "metadata": {},
   "outputs": [
    {
     "ename": "NameError",
     "evalue": "name 'mytuples' is not defined",
     "output_type": "error",
     "traceback": [
      "\u001b[1;31m---------------------------------------------------------------------------\u001b[0m",
      "\u001b[1;31mNameError\u001b[0m                                 Traceback (most recent call last)",
      "Cell \u001b[1;32mIn[24], line 3\u001b[0m\n\u001b[0;32m      1\u001b[0m mytuples\u001b[38;5;241m=\u001b[39m(\u001b[38;5;124m\"\u001b[39m\u001b[38;5;124m1\u001b[39m\u001b[38;5;124m\"\u001b[39m,\u001b[38;5;124m\"\u001b[39m\u001b[38;5;124m2\u001b[39m\u001b[38;5;124m\"\u001b[39m,\u001b[38;5;124m\"\u001b[39m\u001b[38;5;124m3\u001b[39m\u001b[38;5;124m\"\u001b[39m,\u001b[38;5;124m\"\u001b[39m\u001b[38;5;124m4\u001b[39m\u001b[38;5;124m\"\u001b[39m,\u001b[38;5;124m\"\u001b[39m\u001b[38;5;124m5\u001b[39m\u001b[38;5;124m\"\u001b[39m)\n\u001b[0;32m      2\u001b[0m \u001b[38;5;28;01mdel\u001b[39;00m mytuples\n\u001b[1;32m----> 3\u001b[0m \u001b[38;5;28mprint\u001b[39m(mytuples)\n",
      "\u001b[1;31mNameError\u001b[0m: name 'mytuples' is not defined"
     ]
    }
   ],
   "source": [
    "mytuples=(\"1\",\"2\",\"3\",\"4\",\"5\")\n",
    "del mytuples\n",
    "print(mytuples) #this will raise an error because the tuple no longer exists"
   ]
  },
  {
   "cell_type": "code",
   "execution_count": null,
   "id": "9eeba786",
   "metadata": {},
   "outputs": [],
   "source": []
  }
 ],
 "metadata": {
  "kernelspec": {
   "display_name": "Python 3 (ipykernel)",
   "language": "python",
   "name": "python3"
  },
  "language_info": {
   "codemirror_mode": {
    "name": "ipython",
    "version": 3
   },
   "file_extension": ".py",
   "mimetype": "text/x-python",
   "name": "python",
   "nbconvert_exporter": "python",
   "pygments_lexer": "ipython3",
   "version": "3.11.3"
  }
 },
 "nbformat": 4,
 "nbformat_minor": 5
}
